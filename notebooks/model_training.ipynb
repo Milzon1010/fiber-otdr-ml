{
 "cells": [
  {
   "cell_type": "markdown",
   "metadata": {},
   "source": [
    "# Model Training – 1D CNN (Skeleton)\n",
    "This notebook turns OTDR traces into windowed examples and trains a tiny 1D CNN to classify *event* vs *normal* windows.\n"
   ]
  },
  {
   "cell_type": "code",
   "execution_count": 5,
   "metadata": {},
   "outputs": [
    {
     "name": "stdout",
     "output_type": "stream",
     "text": [
      "Project root: /mnt/d/Projects/fiber-otdr-ml\n"
     ]
    }
   ],
   "source": [
    "# ---- make imports robust no matter where the notebook is run ----\n",
    "import sys, os\n",
    "from pathlib import Path\n",
    "\n",
    "here = Path.cwd()\n",
    "root = here\n",
    "for _ in range(4):  # coba naik max 4 level\n",
    "    if (root / \"src\" / \"otdr_parser.py\").exists():\n",
    "        break\n",
    "    root = root.parent\n",
    "\n",
    "init_file = Path(root) / \"src\" / \"__init__.py\"\n",
    "if not init_file.exists():\n",
    "    init_file.touch()   # hanya bikin kalau belum ada\n",
    "\n",
    "from src.otdr_parser import load_trace, smooth_power\n",
    "print(\"Project root:\", root)\n"
   ]
  },
  {
   "cell_type": "code",
   "execution_count": 7,
   "metadata": {},
   "outputs": [
    {
     "name": "stdout",
     "output_type": "stream",
     "text": [
      "(5, 8, 1) 0.4\n"
     ]
    }
   ],
   "source": [
    "import pandas as pd, numpy as np, tensorflow as tf\n",
    "from src.otdr_parser import load_trace, smooth_power\n",
    "\n",
    "df = load_trace(str(root / 'sample_data' / 'trace_sample.csv'))\n",
    "x = df['distance_km'].to_numpy(); y = smooth_power(df['power_db'].to_numpy(), window=7)\n",
    "window = 8\n",
    "# Build supervised windows (toy labels: mark windows crossing distance>=5.0 as event)\n",
    "X, y_label = [], []\n",
    "for i in range(len(y)-window):\n",
    "    X.append(y[i:i+window])\n",
    "    y_label.append(1 if x[i+window-1] >= 5.0 else 0)\n",
    "X = np.array(X)[..., None]\n",
    "y_label = np.array(y_label)\n",
    "print(X.shape, y_label.mean())\n"
   ]
  },
  {
   "cell_type": "code",
   "execution_count": 8,
   "metadata": {},
   "outputs": [
    {
     "name": "stderr",
     "output_type": "stream",
     "text": [
      "/home/milzon/.venvs/ai/lib/python3.12/site-packages/keras/src/layers/convolutional/base_conv.py:113: UserWarning: Do not pass an `input_shape`/`input_dim` argument to a layer. When using Sequential models, prefer using an `Input(shape)` object as the first layer in the model instead.\n",
      "  super().__init__(activity_regularizer=activity_regularizer, **kwargs)\n",
      "2025-09-20 09:55:35.740026: E external/local_xla/xla/stream_executor/cuda/cuda_platform.cc:51] failed call to cuInit: INTERNAL: CUDA error: Failed call to cuInit: UNKNOWN ERROR (303)\n"
     ]
    },
    {
     "name": "stdout",
     "output_type": "stream",
     "text": [
      "val acc: 0.0\n"
     ]
    }
   ],
   "source": [
    "model = tf.keras.Sequential([\n",
    "    tf.keras.layers.Conv1D(32, 3, activation='relu', input_shape=(X.shape[1],1)),\n",
    "    tf.keras.layers.MaxPooling1D(2),\n",
    "    tf.keras.layers.Flatten(),\n",
    "    tf.keras.layers.Dense(64, activation='relu'),\n",
    "    tf.keras.layers.Dense(2, activation='softmax')\n",
    "])\n",
    "model.compile(optimizer=tf.keras.optimizers.Adam(1e-3), loss='sparse_categorical_crossentropy', metrics=['accuracy'])\n",
    "history = model.fit(X, y_label, epochs=10, validation_split=0.2, verbose=0)\n",
    "print('val acc:', history.history['val_accuracy'][-1])\n"
   ]
  }
 ],
 "metadata": {
  "kernelspec": {
   "display_name": "ai",
   "language": "python",
   "name": "python3"
  },
  "language_info": {
   "codemirror_mode": {
    "name": "ipython",
    "version": 3
   },
   "file_extension": ".py",
   "mimetype": "text/x-python",
   "name": "python",
   "nbconvert_exporter": "python",
   "pygments_lexer": "ipython3",
   "version": "3.12.3"
  }
 },
 "nbformat": 4,
 "nbformat_minor": 2
}
